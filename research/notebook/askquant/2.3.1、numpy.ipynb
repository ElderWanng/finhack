{
 "cells": [
  {
   "cell_type": "code",
   "execution_count": 70,
   "id": "92fbe65f",
   "metadata": {},
   "outputs": [],
   "source": [
    "import numpy as np"
   ]
  },
  {
   "cell_type": "code",
   "execution_count": 73,
   "id": "841d3e33",
   "metadata": {},
   "outputs": [
    {
     "name": "stdout",
     "output_type": "stream",
     "text": [
      "[ 1  4  7 10 13 16 19]\n"
     ]
    }
   ],
   "source": [
    "arr7 = np.arange(start=1,stop=20,step=3)\n",
    "print(arr7)"
   ]
  },
  {
   "cell_type": "code",
   "execution_count": 68,
   "id": "bd864d76",
   "metadata": {},
   "outputs": [
    {
     "name": "stdout",
     "output_type": "stream",
     "text": [
      "a------[1, 2, 3, 4, 5, 6, 7, 8, 9]\n",
      "a[4]------5\n",
      "a[-2]------8\n",
      "a[:4]------[1, 3]\n",
      "a[4:]------[5, 6, 7, 8, 9]\n",
      "a[2:4]------[3, 4]\n",
      "a[4:-2]------[5, 6, 7]\n"
     ]
    }
   ],
   "source": [
    "a=[1,2,3,4,5,6,7,8,9]\n",
    "print(\"a------%s\" % a)\n",
    "print(\"a[4]------%s\" % a[4])\n",
    "print(\"a[-2]------%s\" % a[-2])\n",
    "print(\"a[:4]------%s\" % a[:4])\n",
    "print(\"a[4:]------%s\" % a[4:])\n",
    "print(\"a[2:4]------%s\" % a[2:4])\n",
    "print(\"a[4:-2]------%s\" % a[4:-2])\n"
   ]
  },
  {
   "cell_type": "code",
   "execution_count": 50,
   "id": "ff09b346",
   "metadata": {},
   "outputs": [
    {
     "name": "stdout",
     "output_type": "stream",
     "text": [
      "准备数据-上证指数-表格形式\n",
      "            date      open      high       low     close       volume\n",
      "0     1990-12-19    96.050    99.980    95.790    99.980       126000\n",
      "1     1990-12-20   104.300   104.390    99.980   104.390        19700\n",
      "2     1990-12-21   109.070   109.130   103.730   109.130         2800\n",
      "3     1990-12-24   113.570   114.550   109.130   114.550         3200\n",
      "4     1990-12-25   120.090   120.250   114.550   120.250         1500\n",
      "...          ...       ...       ...       ...       ...          ...\n",
      "7869  2023-03-08  3271.880  3283.248  3263.693  3283.248  26044354700\n",
      "7870  2023-03-09  3285.943  3289.060  3260.000  3276.094  26402185900\n",
      "7871  2023-03-10  3255.512  3262.147  3229.496  3230.077  28113541000\n",
      "7872  2023-03-13  3228.124  3268.696  3228.124  3268.696  29492808700\n",
      "7873  2023-03-14  3261.922  3262.003  3216.993  3245.312  31990603300\n",
      "\n",
      "[7874 rows x 6 columns]\n"
     ]
    }
   ],
   "source": [
    "import akshare as ak\n",
    "stock_zh_index_daily_df = ak.stock_zh_index_daily(symbol=\"sh000001\")\n",
    "print(\"准备数据-上证指数-表格形式\")\n",
    "print(stock_zh_index_daily_df)"
   ]
  },
  {
   "cell_type": "code",
   "execution_count": 51,
   "id": "182bc875",
   "metadata": {},
   "outputs": [
    {
     "name": "stdout",
     "output_type": "stream",
     "text": [
      "上证指数-转为Numpy\n",
      "[[datetime.date(1990, 12, 19) 96.05 99.98 95.79 99.98 126000]\n",
      " [datetime.date(1990, 12, 20) 104.3 104.39 99.98 104.39 19700]\n",
      " [datetime.date(1990, 12, 21) 109.07 109.13 103.73 109.13 2800]\n",
      " ...\n",
      " [datetime.date(2023, 3, 10) 3255.512 3262.147 3229.496 3230.077\n",
      "  28113541000]\n",
      " [datetime.date(2023, 3, 13) 3228.124 3268.696 3228.124 3268.696\n",
      "  29492808700]\n",
      " [datetime.date(2023, 3, 14) 3261.922 3262.003 3216.993 3245.312\n",
      "  31990603300]]\n"
     ]
    }
   ],
   "source": [
    "sh000001=stock_zh_index_daily_df.to_numpy()\n",
    "print(\"上证指数-转为Numpy\")\n",
    "print(sh000001)"
   ]
  },
  {
   "cell_type": "code",
   "execution_count": 54,
   "id": "2bef5289",
   "metadata": {},
   "outputs": [
    {
     "name": "stdout",
     "output_type": "stream",
     "text": [
      "上证指数-第1行\n",
      "[datetime.date(1990, 12, 19) 96.05 99.98 95.79 99.98 126000]\n"
     ]
    }
   ],
   "source": [
    "sh000001=stock_zh_index_daily_df.to_numpy()\n",
    "sh000001=sh000001[0,:]\n",
    "print(\"上证指数-第1行\")\n",
    "print(sh000001)"
   ]
  },
  {
   "cell_type": "code",
   "execution_count": 53,
   "id": "7009ee04",
   "metadata": {},
   "outputs": [
    {
     "name": "stdout",
     "output_type": "stream",
     "text": [
      "上证指数-第2列\n",
      "[99.98 104.39 109.13 ... 3262.147 3268.696 3262.003]\n"
     ]
    }
   ],
   "source": [
    "sh000001=stock_zh_index_daily_df.to_numpy()\n",
    "sh000001=sh000001[:,2]\n",
    "print(\"上证指数-第2列\")\n",
    "print(sh000001)"
   ]
  },
  {
   "cell_type": "code",
   "execution_count": 43,
   "id": "969982df",
   "metadata": {},
   "outputs": [
    {
     "name": "stdout",
     "output_type": "stream",
     "text": [
      "上证指数-删除时间列\n",
      "[[96.05 99.98 95.79 99.98 126000]\n",
      " [104.3 104.39 99.98 104.39 19700]\n",
      " [109.07 109.13 103.73 109.13 2800]\n",
      " ...\n",
      " [3255.512 3262.147 3229.496 3230.077 28113541000]\n",
      " [3228.124 3268.696 3228.124 3268.696 29492808700]\n",
      " [3261.922 3262.003 3216.993 3245.312 31990603300]]\n"
     ]
    }
   ],
   "source": [
    "sh000001=sh000001[:,1:]\n",
    "print(\"上证指数-删除时间列\")\n",
    "print(sh000001)"
   ]
  },
  {
   "cell_type": "code",
   "execution_count": null,
   "id": "6576d088",
   "metadata": {},
   "outputs": [],
   "source": []
  },
  {
   "cell_type": "code",
   "execution_count": 41,
   "id": "56b55a2a",
   "metadata": {},
   "outputs": [
    {
     "name": "stdout",
     "output_type": "stream",
     "text": [
      "平均值：1962080814.3542993\n"
     ]
    }
   ],
   "source": [
    "print(\"平均值：\"+str(sh000001.mean()))"
   ]
  },
  {
   "cell_type": "code",
   "execution_count": null,
   "id": "1956640d",
   "metadata": {},
   "outputs": [],
   "source": []
  }
 ],
 "metadata": {
  "kernelspec": {
   "display_name": "Python 3 (ipykernel)",
   "language": "python",
   "name": "python3"
  },
  "language_info": {
   "codemirror_mode": {
    "name": "ipython",
    "version": 3
   },
   "file_extension": ".py",
   "mimetype": "text/x-python",
   "name": "python",
   "nbconvert_exporter": "python",
   "pygments_lexer": "ipython3",
   "version": "3.9.12"
  }
 },
 "nbformat": 4,
 "nbformat_minor": 5
}
