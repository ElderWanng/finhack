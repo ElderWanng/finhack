{
 "cells": [
  {
   "cell_type": "code",
   "execution_count": 28,
   "id": "b1b2284e",
   "metadata": {},
   "outputs": [
    {
     "data": {
      "text/plain": [
       "Text(0.5, 0.5, 'hello world!\\n你好世界！')"
      ]
     },
     "execution_count": 28,
     "metadata": {},
     "output_type": "execute_result"
    },
    {
     "data": {
      "image/png": "[encoded data removed]",
      "text/plain": [
       "<Figure size 720x360 with 2 Axes>"
      ]
     },
     "metadata": {
      "needs_background": "light"
     },
     "output_type": "display_data"
    }
   ],
   "source": [
    "import matplotlib\n",
    "import matplotlib.pyplot as plt\n",
    "import numpy as np\n",
    "import os\n",
    "import time\n",
    "\n",
    "\n",
    "#判断并自动加载中文字体\n",
    "#print(matplotlib.matplotlib_fname())\n",
    "if not os.path.exists(\"/usr/share/fonts/SimHei.ttf\"):\n",
    "    print(\"没有发现中文字体，尝试下载...\")\n",
    "    os.system(\"wget -q https://us-logger1.oss-cn-beijing.aliyuncs.com/SimHei.ttf -O /usr/share/fonts/SimHei.ttf\")\n",
    "    while not os.path.exists(\"/usr/share/fonts/SimHei.ttf\"):\n",
    "        time.sleep(1)\n",
    "    os.system(\"rm -rf ~/.cache/matplotlib\")\n",
    "    print(\"下载完毕，请点击上方菜单“内核-重启” 进行加载！\")\n",
    "\n",
    "\n",
    "matplotlib.rcParams['font.family'] = ['sans-serif'] #用simhei 字体显示中文\n",
    "matplotlib.rcParams['font.sans-serif'] = ['SimHei'] #用simhei 字体显示中文\n",
    "matplotlib.rcParams['axes.unicode_minus'] = False #这个用来正常显示负号\n",
    "\n",
    "\n",
    " \n",
    "\n",
    "fig, ax = plt.subplots(1,2,figsize=(10,5))\n",
    "\n",
    "ax[0].text(\n",
    "    .5, .5, \"hello world!\\n你好世界！\",ha='center'\n",
    ")"
   ]
  },
  {
   "cell_type": "code",
   "execution_count": 2,
   "id": "d0907f1f",
   "metadata": {},
   "outputs": [
    {
     "name": "stdout",
     "output_type": "stream",
     "text": [
      "%history%\n",
      "%history\n"
     ]
    }
   ],
   "source": [
    "%history"
   ]
  },
  {
   "cell_type": "code",
   "execution_count": null,
   "id": "acdf9f32",
   "metadata": {},
   "outputs": [],
   "source": []
  },
  {
   "cell_type": "code",
   "execution_count": null,
   "id": "134f57e4",
   "metadata": {},
   "outputs": [],
   "source": []
  },
  {
   "cell_type": "code",
   "execution_count": null,
   "id": "df401dbb",
   "metadata": {},
   "outputs": [],
   "source": []
  },
  {
   "cell_type": "code",
   "execution_count": null,
   "id": "0e63b995",
   "metadata": {},
   "outputs": [],
   "source": []
  },
  {
   "cell_type": "code",
   "execution_count": null,
   "id": "7848c7c0",
   "metadata": {},
   "outputs": [],
   "source": []
  }
 ],
 "metadata": {
  "kernelspec": {
   "display_name": "Python 3 (ipykernel)",
   "language": "python",
   "name": "python3"
  },
  "language_info": {
   "codemirror_mode": {
    "name": "ipython",
    "version": 3
   },
   "file_extension": ".py",
   "mimetype": "text/x-python",
   "name": "python",
   "nbconvert_exporter": "python",
   "pygments_lexer": "ipython3",
   "version": "3.9.12"
  }
 },
 "nbformat": 4,
 "nbformat_minor": 5
}
