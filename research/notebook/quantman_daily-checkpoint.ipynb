{
 "cells": [
  {
   "cell_type": "code",
   "execution_count": 1,
   "id": "dd85e3cf",
   "metadata": {},
   "outputs": [],
   "source": [
    "import numpy as np\n",
    "import seaborn as sns\n",
    "import matplotlib.pyplot as plt\n",
    "import pandas as pd\n",
    "import importlib\n",
    "import os\n",
    "import sys\n",
    "import datetime\n",
    "import time\n",
    "sys.path.append('/data/code/finhack')\n",
    "from library.backtest import bt\n",
    "import traceback\n",
    "from library.mydb import mydb\n",
    "import hashlib\n",
    "from concurrent.futures import ThreadPoolExecutor,ProcessPoolExecutor, wait, ALL_COMPLETED\n",
    "from library.astock import AStock\n",
    "import json\n",
    "\n",
    "#https://www.python-graph-gallery.com/all-charts/"
   ]
  },
  {
   "cell_type": "code",
   "execution_count": 5,
   "id": "bea71b43",
   "metadata": {},
   "outputs": [
    {
     "name": "stdout",
     "output_type": "stream",
     "text": [
      "        ts_code trade_date   open   high    low  close pre_close change  \\\n",
      "0     000001.SZ   20221206  13.34  13.66  13.25  13.43     13.53   -0.1   \n",
      "1     000002.SZ   20221206   18.8  19.26  18.45  19.18     18.92   0.26   \n",
      "2     000004.SZ   20221206  10.85  11.04  10.32  10.63     10.57   0.06   \n",
      "3     000005.SZ   20221206      2   2.08   1.98   2.08      1.98    0.1   \n",
      "4     000006.SZ   20221206   6.03   6.17   5.63   5.65      6.26  -0.61   \n",
      "...         ...        ...    ...    ...    ...    ...       ...    ...   \n",
      "5003  873122.BJ   20221206  13.69  14.65  13.31  13.83     13.87  -0.04   \n",
      "5004  873169.BJ   20221206   6.42   6.47   6.42   6.46      6.45   0.01   \n",
      "5005  873223.BJ   20221206   3.78   3.78   3.74   3.76      3.77  -0.01   \n",
      "5006  873339.BJ   20221206   5.89   5.89   5.83   5.87       5.9  -0.03   \n",
      "5007  873527.BJ   20221206   9.07   9.07      9   9.01      9.03  -0.02   \n",
      "\n",
      "      pct_chg         vol       amount  \n",
      "0     -0.7391  1252578.91  1680593.516  \n",
      "1      1.3742  1114423.51   2120240.42  \n",
      "2      0.5676     49051.3    52464.059  \n",
      "3      5.0505   268357.11    54900.669  \n",
      "4     -9.7444  2811834.15  1632819.257  \n",
      "...       ...         ...          ...  \n",
      "5003  -0.2884    19705.81     27603.91  \n",
      "5004    0.155      784.02       505.57  \n",
      "5005  -0.2653     4999.04     1875.987  \n",
      "5006  -0.5085     3533.86     2067.263  \n",
      "5007  -0.2215     2218.43     2000.311  \n",
      "\n",
      "[5008 rows x 11 columns]\n"
     ]
    }
   ],
   "source": [
    "#获取今日A股行情\n",
    "sql_price_today=\"select * from astock_price_daily where trade_date='20221206'\"\n",
    "df_price_today=mydb.selectToDf(sql_price_today,'tushare')\n",
    "\n",
    "print(df_price_today)"
   ]
  },
  {
   "cell_type": "code",
   "execution_count": 38,
   "id": "35157847",
   "metadata": {},
   "outputs": [
    {
     "name": "stdout",
     "output_type": "stream",
     "text": [
      "        ts_code  pct_chg       amount industry\n",
      "0     000001.SZ  -0.7391  1680593.516       银行\n",
      "1     000002.SZ   1.3742   2120240.42     全国地产\n",
      "2     000004.SZ   0.5676    52464.059     软件服务\n",
      "3     000005.SZ   5.0505    54900.669     环境保护\n",
      "4     000006.SZ  -9.7444  1632819.257     区域地产\n",
      "...         ...      ...          ...      ...\n",
      "4870  688799.SH  -1.6729    20064.436     化学制药\n",
      "4871  688800.SH   1.2004   115249.932      元器件\n",
      "4872  688819.SH  -0.3822    82509.028     电气设备\n",
      "4873  688981.SH   1.3298   987663.789      半导体\n",
      "4874  689009.SH    1.499   127887.167      摩托车\n",
      "\n",
      "[4875 rows x 4 columns]\n"
     ]
    }
   ],
   "source": [
    "#聚合获取今日板块行情\n",
    "sql_price_today_with_industry=\"select p.ts_code,pct_chg,amount,industry from astock_price_daily p join astock_basic b on p.ts_code=b.ts_code  where p.trade_date='20221206'  and not isnull(b.industry)\"\n",
    "df_price_today_with_industry=mydb.selectToDf(sql_price_today_with_industry,'tushare')\n",
    "\n",
    "print(df_price_today_with_industry)"
   ]
  },
  {
   "cell_type": "code",
   "execution_count": 41,
   "id": "b77f4272",
   "metadata": {},
   "outputs": [
    {
     "name": "stdout",
     "output_type": "stream",
     "text": [
      "      pct_chg       amount industry\n",
      "0    5.970200   185.803430      商品城\n",
      "1    5.512458   366.051017     超市连锁\n",
      "2    3.142803   655.098394       百货\n",
      "3    3.002105  3529.780063       白酒\n",
      "4    2.623150    36.512319     电器连锁\n",
      "..        ...          ...      ...\n",
      "105 -2.093753  4184.313786      中成药\n",
      "106 -2.214034   371.685872      出版业\n",
      "107 -2.263335   557.436567     石油开采\n",
      "108 -2.625657    67.965689     石油贸易\n",
      "109 -3.861547  1267.154704     医药商业\n",
      "\n",
      "[110 rows x 3 columns]\n"
     ]
    }
   ],
   "source": [
    "#聚合今日板块行情\n",
    "sql_industry=\"select avg(pct_chg) as pct_chg,sum(amount)/10000 as amount,industry \\\n",
    "from astock_price_daily p join astock_basic b on p.ts_code=b.ts_code  \\\n",
    "where p.trade_date='20221206' and not isnull(b.industry) GROUP BY industry order by pct_chg desc\"\n",
    "df_industry=mydb.selectToDf(sql_industry,'tushare')\n",
    "print(df_industry)"
   ]
  },
  {
   "cell_type": "code",
   "execution_count": 47,
   "id": "346b3bcc",
   "metadata": {},
   "outputs": [
    {
     "name": "stdout",
     "output_type": "stream",
     "text": [
      "                   name\n",
      "0               汽车龙头ETF\n",
      "1              ESG龙头ETF\n",
      "2                 AIETF\n",
      "3             兴业上证50ETF\n",
      "4             长三角地方债ETF\n",
      "..                  ...\n",
      "680      平安中证港股通消费主题ETF\n",
      "681  南方上证科创板50成份增强策略ETF\n",
      "682  鹏华上证科创板50成份增强策略ETF\n",
      "683   华泰柏瑞中证韩交所中韩半导体ETF\n",
      "684   招商中证政策性金融债3-5年ETF\n",
      "\n",
      "[685 rows x 1 columns]\n"
     ]
    }
   ],
   "source": [
    "etf_list_sql=\"SELECT name FROM fund_basic where name like '%ETF'\"\n",
    "df_etf_list=mydb.selectToDf(etf_list_sql,'tushare')\n",
    "print(df_etf_list)"
   ]
  },
  {
   "cell_type": "code",
   "execution_count": null,
   "id": "5d53b7e3",
   "metadata": {
    "scrolled": true
   },
   "outputs": [],
   "source": [
    "#m天n版\n",
    "df_price=AStock.getStockDailyPrice(where=\" and trade_date>20221127\",fq='qfq')\n",
    "df_up=df_price[df_price.close>=df_price.upLimit]\n",
    "day=len(set(df_up['trade_date'].to_list()))-1\n",
    "\n",
    "df_c=df_up.groupby('ts_code')['trade_date'].count()\n",
    "df_c=df_c.sort_values(ascending=False)\n",
    "df_c=str(day)+'天'+df_c.astype('string')+'板'\n",
    "print(df_c)\n",
    "\n",
    "df_tmp=df_price[df_price.ts_code=='002427.SZ']\n",
    "print(df_tmp)"
   ]
  },
  {
   "cell_type": "code",
   "execution_count": 5,
   "id": "d8d1ded9",
   "metadata": {},
   "outputs": [
    {
     "data": {
      "image/png": "[encoded data removed]",
      "text/plain": [
       "<Figure size 432x288 with 1 Axes>"
      ]
     },
     "metadata": {
      "needs_background": "light"
     },
     "output_type": "display_data"
    }
   ],
   "source": [
    "df_price=AStock.getStockDailyPrice(where=\" and trade_date>20221127\",fq='qfq')\n",
    "x_axis_data = [1, 2, 3, 4, 5]\n",
    "y_axis_data = [1, 2, 3, 4, 5]\n",
    "# plot中参数的含义分别是横轴值，纵轴值，线的形状，颜色，透明度,线的宽度和标签\n",
    "plt.plot(x_axis_data, y_axis_data,  color='#4169E1', alpha=0.8, linewidth=1, label='n')\n",
    "# 显示标签，如果不加这句，即使在plot中加了label='一些数字'的参数，最终还是不会显示标签\n",
    " \n",
    "plt.show()\n",
    " "
   ]
  },
  {
   "cell_type": "code",
   "execution_count": null,
   "id": "8beb9b3c",
   "metadata": {},
   "outputs": [],
   "source": []
  }
 ],
 "metadata": {
  "kernelspec": {
   "display_name": "Python 3 (ipykernel)",
   "language": "python",
   "name": "python3"
  },
  "language_info": {
   "codemirror_mode": {
    "name": "ipython",
    "version": 3
   },
   "file_extension": ".py",
   "mimetype": "text/x-python",
   "name": "python",
   "nbconvert_exporter": "python",
   "pygments_lexer": "ipython3",
   "version": "3.9.12"
  }
 },
 "nbformat": 4,
 "nbformat_minor": 5
}
