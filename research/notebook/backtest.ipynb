{
 "cells": [
  {
   "cell_type": "code",
   "execution_count": 2,
   "id": "07070487",
   "metadata": {
    "scrolled": false
   },
   "outputs": [
    {
     "name": "stdout",
     "output_type": "stream",
     "text": [
      "strategy time:12.235801696777344\n",
      "{'alpha(阿尔法)': -0.9999999999998438, 'beta(贝塔)': 1.1129736065203761, 'aggregate_returns(年度收益)': trade_date\n",
      "2010    8.009758e+72\n",
      "2011    2.229424e+73\n",
      "2012    1.518319e+73\n",
      "2013    5.117598e+71\n",
      "2014    7.526997e+73\n",
      "2015    4.669448e+73\n",
      "2016    9.098438e+73\n",
      "2017    1.020656e+74\n",
      "2018    1.558155e+73\n",
      "2019    3.824666e+73\n",
      "2020    1.441126e+73\n",
      "2021    1.789517e+73\n",
      "2022    7.851651e+62\n",
      "Name: returns, dtype: float64, 'annual_return(年化收益率)': inf, 'cagr(复合年均增长率)': inf, 'annual_volatility(年化波动率)': 0.3116909198755705, 'info_ratio(信息比率)': 0.19254678251241322, 'downside_risk(下行风险)': 0.0, 'R方': 0.9999992135540149, 'sharpe(夏普比率)': 810.6186206374576, 'sortino(索提诺比率)': inf, 'calmar(卡尔玛比率)': nan, 'omega(欧米伽比率)': nan, 'max_down(最大回撤)': 0.0}\n"
     ]
    },
    {
     "name": "stderr",
     "output_type": "stream",
     "text": [
      "/root/anaconda3/lib/python3.9/site-packages/numpy/core/fromnumeric.py:86: RuntimeWarning: overflow encountered in reduce\n",
      "  return ufunc.reduce(obj, axis, dtype, out, **passkwargs)\n",
      "/root/anaconda3/lib/python3.9/site-packages/empyrical/stats.py:799: RuntimeWarning: divide by zero encountered in true_divide\n",
      "  np.divide(average_annual_return, annualized_downside_risk, out=out)\n",
      "/root/anaconda3/lib/python3.9/site-packages/empyrical/stats.py:267: RuntimeWarning: overflow encountered in multiply\n",
      "  np.multiply(out, starting_value, out=out)\n",
      "/root/anaconda3/lib/python3.9/site-packages/empyrical/stats.py:396: RuntimeWarning: invalid value encountered in subtract\n",
      "  nanmin((cumulative - max_return) / max_return, axis=0, out=out)\n"
     ]
    }
   ],
   "source": [
    "import pandas as pd\n",
    "import importlib\n",
    "import os\n",
    "import sys\n",
    "sys.path.append('/data/code/finhack')\n",
    "from library.backtest import bt\n",
    "\n",
    "bt_instance=bt.run(cash=300000,strategy_name=\"aiTopN\",data_path=\"/data/code/finhack/data/preds/lgb_model_220307debdebb09278eefd2653a3c32b_pred.pkl\")\n",
    "result=bt.analyse(bt_instance,'000001.SH',show=False)\n",
    "print(result)\n",
    "\n"
   ]
  },
  {
   "cell_type": "code",
   "execution_count": null,
   "id": "ea5b680c",
   "metadata": {},
   "outputs": [],
   "source": []
  },
  {
   "cell_type": "code",
   "execution_count": null,
   "id": "042f2b47",
   "metadata": {},
   "outputs": [],
   "source": []
  }
 ],
 "metadata": {
  "kernelspec": {
   "display_name": "Python 3 (ipykernel)",
   "language": "python",
   "name": "python3"
  },
  "language_info": {
   "codemirror_mode": {
    "name": "ipython",
    "version": 3
   },
   "file_extension": ".py",
   "mimetype": "text/x-python",
   "name": "python",
   "nbconvert_exporter": "python",
   "pygments_lexer": "ipython3",
   "version": "3.9.12"
  }
 },
 "nbformat": 4,
 "nbformat_minor": 5
}
