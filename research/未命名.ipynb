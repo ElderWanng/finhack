{
 "cells": [
  {
   "cell_type": "code",
   "execution_count": 1,
   "id": "d16b4488",
   "metadata": {},
   "outputs": [
    {
     "name": "stdout",
     "output_type": "stream",
     "text": [
      "这句话中有盲\u001d",
      "\u001d",
      "\u001d",
      "\u001d",
      "\u001d",
      "\u001d",
      "\u001d",
      "\u001d",
      "\u001d",
      "\u001d",
      "\u001d",
      "\u001d",
      "\u001d",
      "\u001d",
      "\u001d",
      "\u001d",
      "\u001d",
      "\u001d",
      "\u001d",
      "\u001d",
      "\u001d",
      "\u001d",
      "\u001d",
      "\u001d",
      "\u001d",
      "\u001d",
      "\u001d",
      "\u001d",
      "\u001d",
      "\u001d",
      "\u001d",
      "\u001d",
      "\u001d",
      "\u001d",
      "\u001d",
      "\u001d",
      "\u001d",
      "\u001d",
      "\u001d",
      "\u001d",
      "\u001d",
      "\u001d",
      "\u001d",
      "\u001d",
      "\u001d",
      "\u001d",
      "\u001d",
      "\u001d",
      "\u001d",
      "\u001d",
      "\u001d",
      "\u001d",
      "\u001d",
      "\u001d",
      "\u001d",
      "\u001d",
      "\u001d",
      "\u001d",
      "\u001d",
      "\u001d",
      "\u001d",
      "\u001d",
      "\u001d",
      "\u001d",
      "\u001d",
      "\u001d",
      "\u001d",
      "\u001d",
      "\u001d",
      "\u001d",
      "\u001d",
      "\u001d",
      "\u001d",
      "\u001d",
      "\u001d",
      "\u001d",
      "\u001d",
      "\u001d",
      "\u001d",
      "\u001d",
      "\u001d",
      "\u001d",
      "\u001d",
      "\u001d",
      "水印，你能提取出来吗？\n"
     ]
    }
   ],
   "source": [
    "from text_blind_watermark import TextBlindWatermarkThin\n",
    "\n",
    "password = '20190808'\n",
    "watermark = 'github.com/guofei9987'\n",
    "text_blind_wm = TextBlindWatermarkThin(password=password)\n",
    "\n",
    "wm = text_blind_wm.embed(watermark=watermark)\n",
    "# This is example，you can put wm everywhere\n",
    "text_embed = '这句话中有盲' + wm + '水印，你能提取出来吗？'\n",
    "print(text_embed)"
   ]
  },
  {
   "cell_type": "code",
   "execution_count": 2,
   "id": "37383fa8",
   "metadata": {},
   "outputs": [
    {
     "name": "stdout",
     "output_type": "stream",
     "text": [
      "提取内容： github.com/guofei9987\n"
     ]
    }
   ],
   "source": [
    "text_blind_wm_new = TextBlindWatermarkThin(password=password)\n",
    "wm_extract = text_blind_wm_new.extract(\"这句话中有盲\u001d",
    "\u001d",
    "\u001d",
    "\u001d",
    "\u001d",
    "\u001d",
    "\u001d",
    "\u001d",
    "\u001d",
    "\u001d",
    "\u001d",
    "\u001d",
    "\u001d",
    "\u001d",
    "\u001d",
    "\u001d",
    "\u001d",
    "\u001d",
    "\u001d",
    "\u001d",
    "\u001d",
    "\u001d",
    "\u001d",
    "\u001d",
    "\u001d",
    "\u001d",
    "\u001d",
    "\u001d",
    "\u001d",
    "\u001d",
    "\u001d",
    "\u001d",
    "\u001d",
    "\u001d",
    "\u001d",
    "\u001d",
    "\u001d",
    "\u001d",
    "\u001d",
    "\u001d",
    "\u001d",
    "\u001d",
    "\u001d",
    "\u001d",
    "\u001d",
    "\u001d",
    "\u001d",
    "\u001d",
    "\u001d",
    "\u001d",
    "\u001d",
    "\u001d",
    "\u001d",
    "\u001d",
    "\u001d",
    "\u001d",
    "\u001d",
    "\u001d",
    "\u001d",
    "\u001d",
    "\u001d",
    "\u001d",
    "\u001d",
    "\u001d",
    "\u001d",
    "\u001d",
    "\u001d",
    "\u001d",
    "\u001d",
    "\u001d",
    "\u001d",
    "\u001d",
    "\u001d",
    "\u001d",
    "\u001d",
    "\u001d",
    "\u001d",
    "\u001d",
    "\u001d",
    "\u001d",
    "\u001d",
    "\u001d",
    "\u001d",
    "\u001d",
    "水印，你能提取出来吗？\")\n",
    "print('提取内容：', wm_extract)"
   ]
  },
  {
   "cell_type": "code",
   "execution_count": 5,
   "id": "13cc6472",
   "metadata": {},
   "outputs": [
    {
     "name": "stdout",
     "output_type": "stream",
     "text": [
      "打上盲水印之后:\n",
      "这句话中有盲水印，你能提取出来吗？这句话中有盲水印，你能提取出来吗？这句话中有盲水印，你能提取出来吗？这句话中有盲水印，你能提取出来吗？这句话中有盲水印，你能提取出来吗？这句话中有盲水印，你能提取出来吗？这句话中有盲水印，你能提取出来吗？这句话中有盲水印，你能提取出来吗？这句话中有盲水印，你能提取出来吗？这句话中有盲水印，你能提取出来吗？这句话中有盲水印，你能提取出来吗？这句话中有盲水印，你能提取出来吗？这句话中有盲水印，你能提取出来吗？这句话中有盲水印，你能提取出来吗？这句话中有盲水印，你能提取出来吗？这句话中有盲水印，你能提取出来吗？\n"
     ]
    }
   ],
   "source": [
    "from text_blind_watermark import TextBlindWatermark\n",
    "\n",
    "watermark = \"绝密：两点老地方见！\"\n",
    "text = \"这句话中有盲水印，你能提取出来吗？\" * 16\n",
    "password = \"20190808\"\n",
    "\n",
    "twm = TextBlindWatermark(password=password)\n",
    "twm.read_wm(watermark=watermark)\n",
    "twm.read_text(text=text)\n",
    "text_embed = twm.embed()\n",
    "\n",
    "print(\"打上盲水印之后:\")\n",
    "print(text_embed)"
   ]
  },
  {
   "cell_type": "code",
   "execution_count": 10,
   "id": "e4ca6a56",
   "metadata": {},
   "outputs": [
    {
     "name": "stdout",
     "output_type": "stream",
     "text": [
      "Put down the length of wm_bit 215\n"
     ]
    }
   ],
   "source": [
    "\n",
    "from blind_watermark import WaterMark\n",
    "\n",
    "bwm1 = WaterMark(password_img=1, password_wm=1)\n",
    "bwm1.read_img('/data/code/work/watermark/WX20230421-104901.png')\n",
    "wm = '@guofei9987 开源万岁！' \n",
    "bwm1.read_wm(wm, mode='str')\n",
    "bwm1.embed('/data/code/work/embedded.png')\n",
    "len_wm = len(bwm1.wm_bit) \n",
    "print('Put down the length of wm_bit {len_wm}'.format(len_wm=len_wm))\n",
    "\n"
   ]
  },
  {
   "cell_type": "code",
   "execution_count": 11,
   "id": "3bf29048",
   "metadata": {},
   "outputs": [
    {
     "name": "stdout",
     "output_type": "stream",
     "text": [
      "\u0015E�\f",
      "\u0007`U2i���{�tL�\n",
      "�Vw\u001a$�s�e\n"
     ]
    }
   ],
   "source": [
    "\n",
    "from blind_watermark import WaterMark\n",
    "bwm1 = WaterMark(password_img=1, password_wm=1)\n",
    "wm_extract = bwm1.extract('/data/code/work/watermark/WX20230421-114447.png', wm_shape=215, mode='str')\n",
    "print(wm_extract)"
   ]
  },
  {
   "cell_type": "code",
   "execution_count": 25,
   "id": "07ab8c0c",
   "metadata": {},
   "outputs": [
    {
     "data": {
      "text/plain": [
       "array([[[252.87523, 247.22987, 251.08646],\n",
       "        [254.87521, 249.22989, 253.08644],\n",
       "        [250.4641 , 245.61227, 247.7165 ],\n",
       "        ...,\n",
       "        [244.     , 243.99997, 244.     ],\n",
       "        [245.     , 245.     , 245.     ],\n",
       "        [245.00002, 245.00002, 245.00002]],\n",
       "\n",
       "       [[251.87523, 246.22987, 250.08646],\n",
       "        [253.87523, 248.22987, 252.08646],\n",
       "        [243.46408, 238.61229, 240.71649],\n",
       "        ...,\n",
       "        [236.99998, 236.99998, 236.99998],\n",
       "        [243.     , 243.     , 243.     ],\n",
       "        [246.     , 246.00003, 246.     ]],\n",
       "\n",
       "       [[248.8363 , 243.41586, 242.37238],\n",
       "        [246.83626, 241.41582, 240.37233],\n",
       "        [223.80733, 217.36934, 214.3991 ],\n",
       "        ...,\n",
       "        [215.99997, 215.99997, 215.99997],\n",
       "        [238.99997, 238.99997, 238.99997],\n",
       "        [243.     , 243.     , 243.     ]],\n",
       "\n",
       "       ...,\n",
       "\n",
       "       [[190.55669, 191.24495, 190.50537],\n",
       "        [187.55667, 188.24493, 187.50536],\n",
       "        [164.23468, 168.46344, 167.73749],\n",
       "        ...,\n",
       "        [177.99983, 178.00014, 176.00029],\n",
       "        [199.99985, 200.00015, 198.0003 ],\n",
       "        [203.99992, 204.00009, 203.00015]],\n",
       "\n",
       "       [[197.9994 , 193.9993 , 197.99948],\n",
       "        [194.99916, 189.99918, 193.9995 ],\n",
       "        [192.99916, 187.99918, 191.9995 ],\n",
       "        ...,\n",
       "        [196.99997, 198.0003 , 195.00041],\n",
       "        [200.00009, 201.00026, 199.0003 ],\n",
       "        [201.99998, 203.00034, 200.00043]],\n",
       "\n",
       "       [[202.99933, 198.99937, 201.99963],\n",
       "        [195.99916, 190.99918, 194.9995 ],\n",
       "        [194.99916, 189.99918, 193.9995 ],\n",
       "        ...,\n",
       "        [201.00005, 202.00024, 200.00026],\n",
       "        [203.     , 204.00034, 201.00044],\n",
       "        [204.99995, 206.0003 , 203.0004 ]]], dtype=float32)"
      ]
     },
     "execution_count": 25,
     "metadata": {},
     "output_type": "execute_result"
    }
   ],
   "source": [
    "from blind_watermark import WaterMark\n",
    "\n",
    "bwm1 = WaterMark(password_wm=1, password_img=1)\n",
    "# read original image\n",
    "bwm1.read_img('/data/code/work/watermark/source.png')\n",
    "# read watermark\n",
    "bwm1.read_wm('/data/code/work/watermark/wm.png')\n",
    "# embed\n",
    "bwm1.embed('/data/code/work/watermark/embedded.png')"
   ]
  },
  {
   "cell_type": "code",
   "execution_count": null,
   "id": "e2ea7aaf",
   "metadata": {},
   "outputs": [],
   "source": []
  },
  {
   "cell_type": "code",
   "execution_count": 27,
   "id": "e5f263cb",
   "metadata": {},
   "outputs": [
    {
     "data": {
      "text/plain": [
       "array([[170.    , 238.    , 233.75  , ..., 148.75  , 233.75  , 191.25  ],\n",
       "       [153.    , 136.    , 161.5   , ..., 242.25  , 199.75  , 122.1875],\n",
       "       [170.    , 182.75  , 250.75  , ..., 102.    , 250.75  , 238.    ],\n",
       "       ...,\n",
       "       [187.    , 242.25  , 204.    , ..., 148.75  , 199.75  , 250.75  ],\n",
       "       [208.25  , 255.    , 204.    , ..., 239.0625, 221.    , 242.25  ],\n",
       "       [157.25  , 250.75  , 185.9375, ..., 199.75  , 250.75  , 246.5   ]])"
      ]
     },
     "execution_count": 27,
     "metadata": {},
     "output_type": "execute_result"
    }
   ],
   "source": [
    "bwm1 = WaterMark(password_wm=1, password_img=1)\n",
    "# notice that wm_shape is necessary\n",
    "bwm1.extract(filename='/data/code/work/watermark/embedded.png', wm_shape=(72,64), out_wm_name='/data/code/work/watermark/extracted.png', )"
   ]
  },
  {
   "cell_type": "code",
   "execution_count": 29,
   "id": "0e20cc01",
   "metadata": {},
   "outputs": [
    {
     "data": {
      "text/plain": [
       "array([[155.83333333, 170.        , 113.33333333, ..., 191.25      ,\n",
       "         85.        , 134.58333333],\n",
       "       [148.75      , 113.33333333, 170.        , ..., 177.08333333,\n",
       "         99.16666667, 205.41666667],\n",
       "       [ 85.        , 219.58333333, 120.41666667, ..., 155.83333333,\n",
       "        191.25      , 127.5       ],\n",
       "       ...,\n",
       "       [ 85.        , 198.33333333, 143.4375    , ..., 159.375     ,\n",
       "        170.        , 191.25      ],\n",
       "       [170.        , 162.91666667, 127.5       , ..., 155.83333333,\n",
       "        106.25      ,  85.        ],\n",
       "       [134.58333333,  92.08333333, 127.5       , ..., 111.5625    ,\n",
       "        148.75      ,  42.5       ]])"
      ]
     },
     "execution_count": 29,
     "metadata": {},
     "output_type": "execute_result"
    }
   ],
   "source": [
    "bwm1 = WaterMark(password_wm=1, password_img=1)\n",
    "# notice that wm_shape is necessary\n",
    "bwm1.extract(filename='/data/code/work/watermark/cut.png', wm_shape=(72,64), out_wm_name='/data/code/work/watermark/extracted.png', )"
   ]
  },
  {
   "cell_type": "code",
   "execution_count": null,
   "id": "e1752d8a",
   "metadata": {},
   "outputs": [],
   "source": []
  }
 ],
 "metadata": {
  "kernelspec": {
   "display_name": "Python 3 (ipykernel)",
   "language": "python",
   "name": "python3"
  },
  "language_info": {
   "codemirror_mode": {
    "name": "ipython",
    "version": 3
   },
   "file_extension": ".py",
   "mimetype": "text/x-python",
   "name": "python",
   "nbconvert_exporter": "python",
   "pygments_lexer": "ipython3",
   "version": "3.9.12"
  }
 },
 "nbformat": 4,
 "nbformat_minor": 5
}
